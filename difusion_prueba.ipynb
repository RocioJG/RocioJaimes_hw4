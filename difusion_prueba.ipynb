{
 "metadata": {
  "name": "",
  "signature": "sha256:c1c6764187128e2df9e1095b0c5ce3e356e061bb7e133d1b5f869b6e8b717f08"
 },
 "nbformat": 3,
 "nbformat_minor": 0,
 "worksheets": [
  {
   "cells": [
    {
     "cell_type": "code",
     "collapsed": false,
     "input": [
      "%pylab inline\n",
      "import numpy as np\n",
      "import matplotlib.pyplot as plt\n",
      "from mpl_toolkits.mplot3d import Axes3D\n",
      "from scipy.misc import imread"
     ],
     "language": "python",
     "metadata": {},
     "outputs": [
      {
       "output_type": "stream",
       "stream": "stdout",
       "text": [
        "Populating the interactive namespace from numpy and matplotlib\n"
       ]
      },
      {
       "output_type": "stream",
       "stream": "stderr",
       "text": [
        "WARNING: pylab import has clobbered these variables: ['imread']\n",
        "`%matplotlib` prevents importing * from pylab and numpy\n"
       ]
      }
     ],
     "prompt_number": 11
    },
    {
     "cell_type": "code",
     "collapsed": false,
     "input": [
      "n_points=100\n",
      "tiempo=2500\n",
      "delta_x=1\n",
      "v=1\n",
      "delta_t=0.25*delta_x*delta_x/v\n",
      "alpha=v*delta_t/delta_x #needs to be less than 1/2\n",
      "print(delta_t)"
     ],
     "language": "python",
     "metadata": {},
     "outputs": [
      {
       "output_type": "stream",
       "stream": "stdout",
       "text": [
        "0.25\n"
       ]
      }
     ],
     "prompt_number": 12
    },
    {
     "cell_type": "code",
     "collapsed": false,
     "input": [
      "Ti=np.zeros((100,100))\n",
      "for i in range(100):\n",
      "        for j in range(100):\n",
      "            if j<55 and j>45 and i>20 and i<40:\n",
      "                Ti[i,j]=100\n",
      "            else :\n",
      "                Ti[i,j]=50\n",
      "print(Ti)"
     ],
     "language": "python",
     "metadata": {},
     "outputs": [
      {
       "output_type": "stream",
       "stream": "stdout",
       "text": [
        "[[ 50.  50.  50. ...,  50.  50.  50.]\n",
        " [ 50.  50.  50. ...,  50.  50.  50.]\n",
        " [ 50.  50.  50. ...,  50.  50.  50.]\n",
        " ..., \n",
        " [ 50.  50.  50. ...,  50.  50.  50.]\n",
        " [ 50.  50.  50. ...,  50.  50.  50.]\n",
        " [ 50.  50.  50. ...,  50.  50.  50.]]\n"
       ]
      }
     ],
     "prompt_number": 13
    },
    {
     "cell_type": "code",
     "collapsed": false,
     "input": [
      "Tf=np.zeros((100, 100))\n",
      "Tf[0,0]=0.0\n",
      "Tf[n_points-1, n_points-1]=0.0\n",
      "Tp=Ti.copy()\n",
      "print(Tf, Tp)"
     ],
     "language": "python",
     "metadata": {},
     "outputs": [
      {
       "output_type": "stream",
       "stream": "stdout",
       "text": [
        "(array([[ 0.,  0.,  0., ...,  0.,  0.,  0.],\n",
        "       [ 0.,  0.,  0., ...,  0.,  0.,  0.],\n",
        "       [ 0.,  0.,  0., ...,  0.,  0.,  0.],\n",
        "       ..., \n",
        "       [ 0.,  0.,  0., ...,  0.,  0.,  0.],\n",
        "       [ 0.,  0.,  0., ...,  0.,  0.,  0.],\n",
        "       [ 0.,  0.,  0., ...,  0.,  0.,  0.]]), array([[ 50.,  50.,  50., ...,  50.,  50.,  50.],\n",
        "       [ 50.,  50.,  50., ...,  50.,  50.,  50.],\n",
        "       [ 50.,  50.,  50., ...,  50.,  50.,  50.],\n",
        "       ..., \n",
        "       [ 50.,  50.,  50., ...,  50.,  50.,  50.],\n",
        "       [ 50.,  50.,  50., ...,  50.,  50.,  50.],\n",
        "       [ 50.,  50.,  50., ...,  50.,  50.,  50.]]))\n"
       ]
      }
     ],
     "prompt_number": 14
    },
    {
     "cell_type": "code",
     "collapsed": false,
     "input": [
      "#caso 1 Ti=100, caso 2 T=100\n",
      "\n",
      "def difusion(caso, frontera, Tp):\n",
      "    x=range(1, 2500)\n",
      "    y=range(1, 2500)\n",
      "    for k in range(1, tiempo):\n",
      "        for i in range(1, n_points-1):\n",
      "            for j in range(1, n_points-1):\n",
      "                Tf[i,j]=((alpha*alpha)*((Tp[i+1, j]+Tp[i-1,j])+(Tp[i,j+1]+Tp[i,j-1])))+((1-(4*alpha))*Tp[i,j])\n",
      "                if (frontera== \"fijas\"):\n",
      "                    if caso=='caso1':\n",
      "                        Tf[:,99]=50.0\n",
      "                        Tf[:, 0]=50.0\n",
      "                        Tf[99,:]=50.0\n",
      "                        Tf[0, :]=50.0\n",
      "                    if caso=='caso2':\n",
      "                        for f in range(45,55):\n",
      "                            for c in range(20,40):\n",
      "                                Tf[f,c]=100.0\n",
      "                                Tf[:,99]=50.0\n",
      "                                Tf[:, 0]=50.0\n",
      "                                Tf[99,:]=50.0\n",
      "                                Tf[0, :]=50.0\n",
      "                if (frontera=='abiertas'):\n",
      "                    if caso== 'caso1':\n",
      "                        Tf[:,99]=Tf[:,98]\n",
      "                        Tf[:, 0]=Tf[:, 1]\n",
      "                        Tf[99,:]=Tf[98,:]\n",
      "                        Tf[0, :]=Tf[1, :]\n",
      "                    if caso== 'caso2':\n",
      "                        for f in range(45,55):\n",
      "                            for c in range(20,40):\n",
      "                                Tf[f,c]=100.0\n",
      "                                Tf[:,99]=Tf[:,98]\n",
      "                                Tf[:, 0]=Tf[:, 1]\n",
      "                                Tf[99,:]=Tf[98,:]\n",
      "                                Tf[0, :]=Tf[1, :]\n",
      "                if (frontera=='periodicas'):\n",
      "                    if caso== 'caso1':\n",
      "                        Tf[:,99]==Tf[:, 1]\n",
      "                        Tf[:, 0]==Tf[:,98]\n",
      "                        Tf[99,:]==Tf[0, :]\n",
      "                        Tf[0, :]==Tf[98,0]\n",
      "                    if caso== 'caso2':\n",
      "                        for f in range(45,55):\n",
      "                            for c in range(20,40):\n",
      "                                Tf[f,c]=100.0\n",
      "                                Tf[:,99]==Tf[:, 1]\n",
      "                                Tf[:, 0]==Tf[:,98]\n",
      "                                Tf[99,:]==Tf[0, :]\n",
      "                                Tf[0, :]==Tf[98,0]                               \n",
      "                Tp=Tf.copy()\n",
      "                fig=plt.figure(figsize=(8,6))\n",
      "                ax= fig.add_subplot(1,1,1, projection='3d')\n",
      "                ax.plot_surface( x, y, Tf, rstride=4, cstride=4, alpha=0.25)\n",
      "\n",
      "                \n",
      "\treturn (Tf)\n"
     ],
     "language": "python",
     "metadata": {},
     "outputs": [],
     "prompt_number": 22
    },
    {
     "cell_type": "code",
     "collapsed": false,
     "input": [
      "def graficas(x, y, Tf):\n",
      "#http://www.peterbeerli.com/classes/images/2/26/Isc4304matplotlib6.pdf\n",
      "    fig=plt.figure(figsize=(8,6))\n",
      "    ax= fig.add_subplot(1,1,1, projection='3d')\n",
      "    ax.plot_surface( x, y, Tf, rstride=4, cstride=4, alpha=0.25)\n",
      " #   ax.set_title('name')\n",
      "    ax.set_xlabel('x (cm)')\n",
      "    ax.set_ylabel('y (cm)')\n",
      "    ax.set_zlabel('Temperatura instantanea (\u00b0C)')\n",
      "    fig.savefig(\".pdf\")\n"
     ],
     "language": "python",
     "metadata": {},
     "outputs": [],
     "prompt_number": 2
    },
    {
     "cell_type": "code",
     "collapsed": false,
     "input": [
      "caso_1_fijas= difusion('caso1', 'fijas', Tp)\n",
      "caso_2_fijas= difusion('caso2', 'fijas', Tp)\n",
      "\n",
      "caso_1_abiertas=difusion('caso1', 'abiertas', Tp)\n",
      "caso_2_abiertas=difusion('caso2', 'abiertas', Tp)\n",
      "\n",
      "caso_1_periodicas=difusion('caso1', 'periodicas', Tp)\n",
      "caso_2_periodicas=difusion('caso2', 'periodicas', Tp)"
     ],
     "language": "python",
     "metadata": {},
     "outputs": [
      {
       "ename": "ValueError",
       "evalue": "shape mismatch: objects cannot be broadcast to a single shape",
       "output_type": "pyerr",
       "traceback": [
        "\u001b[0;31m---------------------------------------------------------------------------\u001b[0m\n\u001b[0;31mValueError\u001b[0m                                Traceback (most recent call last)",
        "\u001b[0;32m<ipython-input-23-3926b0a981ad>\u001b[0m in \u001b[0;36m<module>\u001b[0;34m()\u001b[0m\n\u001b[0;32m----> 1\u001b[0;31m \u001b[0mcaso_1_fijas\u001b[0m\u001b[0;34m=\u001b[0m \u001b[0mdifusion\u001b[0m\u001b[0;34m(\u001b[0m\u001b[0;34m'caso1'\u001b[0m\u001b[0;34m,\u001b[0m \u001b[0;34m'fijas'\u001b[0m\u001b[0;34m,\u001b[0m \u001b[0mTp\u001b[0m\u001b[0;34m)\u001b[0m\u001b[0;34m\u001b[0m\u001b[0m\n\u001b[0m\u001b[1;32m      2\u001b[0m \u001b[0mcaso_2_fijas\u001b[0m\u001b[0;34m=\u001b[0m \u001b[0mdifusion\u001b[0m\u001b[0;34m(\u001b[0m\u001b[0;34m'caso2'\u001b[0m\u001b[0;34m,\u001b[0m \u001b[0;34m'fijas'\u001b[0m\u001b[0;34m,\u001b[0m \u001b[0mTp\u001b[0m\u001b[0;34m)\u001b[0m\u001b[0;34m\u001b[0m\u001b[0m\n\u001b[1;32m      3\u001b[0m \u001b[0;34m\u001b[0m\u001b[0m\n\u001b[1;32m      4\u001b[0m \u001b[0mcaso_1_abiertas\u001b[0m\u001b[0;34m=\u001b[0m\u001b[0mdifusion\u001b[0m\u001b[0;34m(\u001b[0m\u001b[0;34m'caso1'\u001b[0m\u001b[0;34m,\u001b[0m \u001b[0;34m'abiertas'\u001b[0m\u001b[0;34m,\u001b[0m \u001b[0mTp\u001b[0m\u001b[0;34m)\u001b[0m\u001b[0;34m\u001b[0m\u001b[0m\n\u001b[1;32m      5\u001b[0m \u001b[0mcaso_2_abiertas\u001b[0m\u001b[0;34m=\u001b[0m\u001b[0mdifusion\u001b[0m\u001b[0;34m(\u001b[0m\u001b[0;34m'caso2'\u001b[0m\u001b[0;34m,\u001b[0m \u001b[0;34m'abiertas'\u001b[0m\u001b[0;34m,\u001b[0m \u001b[0mTp\u001b[0m\u001b[0;34m)\u001b[0m\u001b[0;34m\u001b[0m\u001b[0m\n",
        "\u001b[0;32m<ipython-input-22-58ba9a3bf703>\u001b[0m in \u001b[0;36mdifusion\u001b[0;34m(caso, frontera, Tp)\u001b[0m\n\u001b[1;32m     53\u001b[0m                 \u001b[0mfig\u001b[0m\u001b[0;34m=\u001b[0m\u001b[0mplt\u001b[0m\u001b[0;34m.\u001b[0m\u001b[0mfigure\u001b[0m\u001b[0;34m(\u001b[0m\u001b[0mfigsize\u001b[0m\u001b[0;34m=\u001b[0m\u001b[0;34m(\u001b[0m\u001b[0;36m8\u001b[0m\u001b[0;34m,\u001b[0m\u001b[0;36m6\u001b[0m\u001b[0;34m)\u001b[0m\u001b[0;34m)\u001b[0m\u001b[0;34m\u001b[0m\u001b[0m\n\u001b[1;32m     54\u001b[0m                 \u001b[0max\u001b[0m\u001b[0;34m=\u001b[0m \u001b[0mfig\u001b[0m\u001b[0;34m.\u001b[0m\u001b[0madd_subplot\u001b[0m\u001b[0;34m(\u001b[0m\u001b[0;36m1\u001b[0m\u001b[0;34m,\u001b[0m\u001b[0;36m1\u001b[0m\u001b[0;34m,\u001b[0m\u001b[0;36m1\u001b[0m\u001b[0;34m,\u001b[0m \u001b[0mprojection\u001b[0m\u001b[0;34m=\u001b[0m\u001b[0;34m'3d'\u001b[0m\u001b[0;34m)\u001b[0m\u001b[0;34m\u001b[0m\u001b[0m\n\u001b[0;32m---> 55\u001b[0;31m                 \u001b[0max\u001b[0m\u001b[0;34m.\u001b[0m\u001b[0mplot_surface\u001b[0m\u001b[0;34m(\u001b[0m \u001b[0mx\u001b[0m\u001b[0;34m,\u001b[0m \u001b[0my\u001b[0m\u001b[0;34m,\u001b[0m \u001b[0mTf\u001b[0m\u001b[0;34m,\u001b[0m \u001b[0mrstride\u001b[0m\u001b[0;34m=\u001b[0m\u001b[0;36m4\u001b[0m\u001b[0;34m,\u001b[0m \u001b[0mcstride\u001b[0m\u001b[0;34m=\u001b[0m\u001b[0;36m4\u001b[0m\u001b[0;34m,\u001b[0m \u001b[0malpha\u001b[0m\u001b[0;34m=\u001b[0m\u001b[0;36m0.25\u001b[0m\u001b[0;34m)\u001b[0m\u001b[0;34m\u001b[0m\u001b[0m\n\u001b[0m\u001b[1;32m     56\u001b[0m \u001b[0;34m\u001b[0m\u001b[0m\n\u001b[1;32m     57\u001b[0m \u001b[0;34m\u001b[0m\u001b[0m\n",
        "\u001b[0;32m/usr/lib/python2.7/dist-packages/mpl_toolkits/mplot3d/axes3d.pyc\u001b[0m in \u001b[0;36mplot_surface\u001b[0;34m(self, X, Y, Z, *args, **kwargs)\u001b[0m\n\u001b[1;32m   1584\u001b[0m         \u001b[0mZ\u001b[0m \u001b[0;34m=\u001b[0m \u001b[0mnp\u001b[0m\u001b[0;34m.\u001b[0m\u001b[0matleast_2d\u001b[0m\u001b[0;34m(\u001b[0m\u001b[0mZ\u001b[0m\u001b[0;34m)\u001b[0m\u001b[0;34m\u001b[0m\u001b[0m\n\u001b[1;32m   1585\u001b[0m         \u001b[0;31m# TODO: Support masked arrays\u001b[0m\u001b[0;34m\u001b[0m\u001b[0;34m\u001b[0m\u001b[0m\n\u001b[0;32m-> 1586\u001b[0;31m         \u001b[0mX\u001b[0m\u001b[0;34m,\u001b[0m \u001b[0mY\u001b[0m\u001b[0;34m,\u001b[0m \u001b[0mZ\u001b[0m \u001b[0;34m=\u001b[0m \u001b[0mnp\u001b[0m\u001b[0;34m.\u001b[0m\u001b[0mbroadcast_arrays\u001b[0m\u001b[0;34m(\u001b[0m\u001b[0mX\u001b[0m\u001b[0;34m,\u001b[0m \u001b[0mY\u001b[0m\u001b[0;34m,\u001b[0m \u001b[0mZ\u001b[0m\u001b[0;34m)\u001b[0m\u001b[0;34m\u001b[0m\u001b[0m\n\u001b[0m\u001b[1;32m   1587\u001b[0m         \u001b[0mrows\u001b[0m\u001b[0;34m,\u001b[0m \u001b[0mcols\u001b[0m \u001b[0;34m=\u001b[0m \u001b[0mZ\u001b[0m\u001b[0;34m.\u001b[0m\u001b[0mshape\u001b[0m\u001b[0;34m\u001b[0m\u001b[0m\n\u001b[1;32m   1588\u001b[0m \u001b[0;34m\u001b[0m\u001b[0m\n",
        "\u001b[0;32m/usr/lib/python2.7/dist-packages/numpy/lib/stride_tricks.pyc\u001b[0m in \u001b[0;36mbroadcast_arrays\u001b[0;34m(*args, **kwargs)\u001b[0m\n\u001b[1;32m    189\u001b[0m     \u001b[0margs\u001b[0m \u001b[0;34m=\u001b[0m \u001b[0;34m[\u001b[0m\u001b[0mnp\u001b[0m\u001b[0;34m.\u001b[0m\u001b[0marray\u001b[0m\u001b[0;34m(\u001b[0m\u001b[0m_m\u001b[0m\u001b[0;34m,\u001b[0m \u001b[0mcopy\u001b[0m\u001b[0;34m=\u001b[0m\u001b[0mFalse\u001b[0m\u001b[0;34m,\u001b[0m \u001b[0msubok\u001b[0m\u001b[0;34m=\u001b[0m\u001b[0msubok\u001b[0m\u001b[0;34m)\u001b[0m \u001b[0;32mfor\u001b[0m \u001b[0m_m\u001b[0m \u001b[0;32min\u001b[0m \u001b[0margs\u001b[0m\u001b[0;34m]\u001b[0m\u001b[0;34m\u001b[0m\u001b[0m\n\u001b[1;32m    190\u001b[0m \u001b[0;34m\u001b[0m\u001b[0m\n\u001b[0;32m--> 191\u001b[0;31m     \u001b[0mshape\u001b[0m \u001b[0;34m=\u001b[0m \u001b[0m_broadcast_shape\u001b[0m\u001b[0;34m(\u001b[0m\u001b[0;34m*\u001b[0m\u001b[0margs\u001b[0m\u001b[0;34m)\u001b[0m\u001b[0;34m\u001b[0m\u001b[0m\n\u001b[0m\u001b[1;32m    192\u001b[0m \u001b[0;34m\u001b[0m\u001b[0m\n\u001b[1;32m    193\u001b[0m     \u001b[0;32mif\u001b[0m \u001b[0mall\u001b[0m\u001b[0;34m(\u001b[0m\u001b[0marray\u001b[0m\u001b[0;34m.\u001b[0m\u001b[0mshape\u001b[0m \u001b[0;34m==\u001b[0m \u001b[0mshape\u001b[0m \u001b[0;32mfor\u001b[0m \u001b[0marray\u001b[0m \u001b[0;32min\u001b[0m \u001b[0margs\u001b[0m\u001b[0;34m)\u001b[0m\u001b[0;34m:\u001b[0m\u001b[0;34m\u001b[0m\u001b[0m\n",
        "\u001b[0;32m/usr/lib/python2.7/dist-packages/numpy/lib/stride_tricks.pyc\u001b[0m in \u001b[0;36m_broadcast_shape\u001b[0;34m(*args)\u001b[0m\n\u001b[1;32m    124\u001b[0m     \u001b[0;31m# use the old-iterator because np.nditer does not handle size 0 arrays\u001b[0m\u001b[0;34m\u001b[0m\u001b[0;34m\u001b[0m\u001b[0m\n\u001b[1;32m    125\u001b[0m     \u001b[0;31m# consistently\u001b[0m\u001b[0;34m\u001b[0m\u001b[0;34m\u001b[0m\u001b[0m\n\u001b[0;32m--> 126\u001b[0;31m     \u001b[0mb\u001b[0m \u001b[0;34m=\u001b[0m \u001b[0mnp\u001b[0m\u001b[0;34m.\u001b[0m\u001b[0mbroadcast\u001b[0m\u001b[0;34m(\u001b[0m\u001b[0;34m*\u001b[0m\u001b[0margs\u001b[0m\u001b[0;34m[\u001b[0m\u001b[0;34m:\u001b[0m\u001b[0;36m32\u001b[0m\u001b[0;34m]\u001b[0m\u001b[0;34m)\u001b[0m\u001b[0;34m\u001b[0m\u001b[0m\n\u001b[0m\u001b[1;32m    127\u001b[0m     \u001b[0;31m# unfortunately, it cannot handle 32 or more arguments directly\u001b[0m\u001b[0;34m\u001b[0m\u001b[0;34m\u001b[0m\u001b[0m\n\u001b[1;32m    128\u001b[0m     \u001b[0;32mfor\u001b[0m \u001b[0mpos\u001b[0m \u001b[0;32min\u001b[0m \u001b[0mrange\u001b[0m\u001b[0;34m(\u001b[0m\u001b[0;36m32\u001b[0m\u001b[0;34m,\u001b[0m \u001b[0mlen\u001b[0m\u001b[0;34m(\u001b[0m\u001b[0margs\u001b[0m\u001b[0;34m)\u001b[0m\u001b[0;34m,\u001b[0m \u001b[0;36m31\u001b[0m\u001b[0;34m)\u001b[0m\u001b[0;34m:\u001b[0m\u001b[0;34m\u001b[0m\u001b[0m\n",
        "\u001b[0;31mValueError\u001b[0m: shape mismatch: objects cannot be broadcast to a single shape"
       ]
      },
      {
       "metadata": {},
       "output_type": "display_data",
       "png": "[encoded data removed]",
       "text": [
        "<matplotlib.figure.Figure at 0x7f1d13076950>"
       ]
      }
     ],
     "prompt_number": 23
    },
    {
     "cell_type": "code",
     "collapsed": false,
     "input": [
      "#graficas\n",
      "#t=0 caso1, fija\n",
      "fig=plt.figure(figsize=(8,6))\n",
      "ax= fig.add_subplot(1,1,1, projection='3d')\n",
      "ax.plot_surface( x, y, Tf, rstride=4, cstride=4, alpha=0.25)\n",
      "ax.set_title('name')\n",
      "ax.set_xlabel('x (cm)')\n",
      "ax.set_ylabel('y (cm)')\n",
      "xx.set_zlabel('Temperatura instantanea (\u00b0C)')\n",
      "fig.savefig(\"caso1_fija.pdf\")\n",
      "\n",
      "#t=0 caso1, abierta\n",
      "fig=plt.figure(figsize=(8,6))\n",
      "ax= fig.add_subplot(1,1,1, projection='3d')\n",
      "ax.plot_surface( x, y, Tf, rstride=4, cstride=4, alpha=0.25)\n",
      "ax.set_title('name')\n",
      "ax.set_xlabel('x (cm)')\n",
      "ax.set_ylabel('y (cm)')\n",
      "xx.set_zlabel('Temperatura instantanea (\u00b0C)')\n",
      "fig.savefig(\"caso1_abierta.pdf\")\n",
      "\n",
      "#t=0 caso1, periodicas\n",
      "fig=plt.figure(figsize=(8,6))\n",
      "ax= fig.add_subplot(1,1,1, projection='3d')\n",
      "ax.plot_surface( x, y, Tf, rstride=4, cstride=4, alpha=0.25)\n",
      "ax.set_title('name')\n",
      "ax.set_xlabel('x (cm)')\n",
      "ax.set_ylabel('y (cm)')\n",
      "xx.set_zlabel('Temperatura instantanea (\u00b0C)')\n",
      "fig.savefig(\"caso1_periodicas.pdf\")\n",
      "\n",
      "#t=0 caso2, fija\n",
      "fig=plt.figure(figsize=(8,6))\n",
      "ax= fig.add_subplot(1,1,1, projection='3d')\n",
      "ax.plot_surface( x, y, Tf, rstride=4, cstride=4, alpha=0.25)\n",
      "ax.set_title('name')\n",
      "ax.set_xlabel('x (cm)')\n",
      "ax.set_ylabel('y (cm)')\n",
      "xx.set_zlabel('Temperatura instantanea (\u00b0C)')\n",
      "fig.savefig(\"caso12_fija.pdf\")\n",
      "\n",
      "#t=0 caso2, abierta\n",
      "fig=plt.figure(figsize=(8,6))\n",
      "ax= fig.add_subplot(1,1,1, projection='3d')\n",
      "ax.plot_surface( x, y, Tf, rstride=4, cstride=4, alpha=0.25)\n",
      "ax.set_title('name')\n",
      "ax.set_xlabel('x (cm)')\n",
      "ax.set_ylabel('y (cm)')\n",
      "xx.set_zlabel('Temperatura instantanea (\u00b0C)')\n",
      "fig.savefig(\"caso2_abierta.pdf\")\n",
      "#t=0 caso2, periodicas\n",
      "\n",
      "#t=100 caso1, fija\n",
      "#t=100 caso1, abierta\n",
      "#t=100 caso1, periodicas\n",
      "#t=100 caso2, fija\n",
      "#t=100 caso2, abierta\n",
      "#t=100 caso2, periodicas\n",
      "\n",
      "#t=2500 caso1, fija\n",
      "#t=2500 caso1, abierta\n",
      "#t=2500 caso1, periodicas\n",
      "#t=2500 caso2, fija\n",
      "#t=2500 caso2, abierta\n",
      "#t=2500 caso2, periodicas\n",
      "\n",
      "#t_mean caso1, fija\n",
      "#t_mean caso1, abierta\n",
      "#t_mean caso1, periodicas\n",
      "#t_mean caso2, fija\n",
      "#t_mean caso2, abierta\n",
      "#t_mean caso2, periodicas"
     ],
     "language": "python",
     "metadata": {},
     "outputs": [],
     "prompt_number": 7
    },
    {
     "cell_type": "code",
     "collapsed": false,
     "input": [],
     "language": "python",
     "metadata": {},
     "outputs": [],
     "prompt_number": 23
    },
    {
     "cell_type": "code",
     "collapsed": false,
     "input": [],
     "language": "python",
     "metadata": {},
     "outputs": []
    }
   ],
   "metadata": {}
  }
 ]
}